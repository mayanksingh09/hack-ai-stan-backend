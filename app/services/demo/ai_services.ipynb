{
 "cells": [
  {
   "cell_type": "code",
   "execution_count": 3,
   "metadata": {},
   "outputs": [],
   "source": [
    "import sys, os\n",
    "# Add python_services to the path\n",
    "python_services_dir = os.path.abspath(os.path.join(os.getcwd(), \"../../\"))\n",
    "sys.path.insert(0, python_services_dir)"
   ]
  },
  {
   "cell_type": "code",
   "execution_count": 7,
   "metadata": {},
   "outputs": [],
   "source": [
    "from models.platform_rules import PlatformType\n",
    "from models.content import VideoTranscript, PlatformContent\n",
    "from services.transcript_processor import TranscriptProcessor, TranscriptAnalysis\n",
    "from services.platform_agents import PlatformAgentManager, get_platform_agent_manager\n",
    "from services.content_generator import ContentGeneratorService, ContentGenerationRequest\n"
   ]
  },
  {
   "cell_type": "code",
   "execution_count": 8,
   "metadata": {},
   "outputs": [
    {
     "name": "stderr",
     "output_type": "stream",
     "text": [
      "INFO:services.content_generator:AI service initialized with model: gpt-4o\n"
     ]
    }
   ],
   "source": [
    "transcript = VideoTranscript(\n",
    "    content=\"This is a test video about artificial intelligence and machine learning.\",\n",
    "    title=\"AI Tutorial\",\n",
    "    video_category=\"technology\"\n",
    ")\n",
    "service = ContentGeneratorService()\n",
    "\n",
    "prompt = service._build_platform_prompt(\n",
    "    PlatformType.YOUTUBE, transcript, \"energetic\", True\n",
    ")"
   ]
  },
  {
   "cell_type": "code",
   "execution_count": null,
   "metadata": {},
   "outputs": [],
   "source": []
  }
 ],
 "metadata": {
  "kernelspec": {
   "display_name": "hackai",
   "language": "python",
   "name": "hackai"
  },
  "language_info": {
   "codemirror_mode": {
    "name": "ipython",
    "version": 3
   },
   "file_extension": ".py",
   "mimetype": "text/x-python",
   "name": "python",
   "nbconvert_exporter": "python",
   "pygments_lexer": "ipython3",
   "version": "3.12.0"
  }
 },
 "nbformat": 4,
 "nbformat_minor": 2
}
